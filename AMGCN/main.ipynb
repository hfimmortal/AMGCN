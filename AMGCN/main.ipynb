{
 "cells": [
  {
   "cell_type": "markdown",
   "metadata": {},
   "source": [
    "# STGCN-PyTorch"
   ]
  },
  {
   "cell_type": "markdown",
   "metadata": {},
   "source": [
    "## Packages"
   ]
  },
  {
   "cell_type": "code",
   "execution_count": 1,
   "metadata": {},
   "outputs": [],
   "source": [
    "import random\n",
    "import torch\n",
    "import numpy as np\n",
    "import pandas as pd\n",
    "from sklearn.preprocessing import StandardScaler\n",
    "from load_data import *\n",
    "from utils import *\n",
    "from stgcn import *"
   ]
  },
  {
   "cell_type": "markdown",
   "metadata": {},
   "source": [
    "## Random Seed"
   ]
  },
  {
   "cell_type": "code",
   "execution_count": 2,
   "metadata": {},
   "outputs": [],
   "source": [
    "torch.manual_seed(2333)\n",
    "torch.cuda.manual_seed(2333)\n",
    "np.random.seed(2333)\n",
    "random.seed(2333)\n",
    "torch.backends.cudnn.deterministic = True"
   ]
  },
  {
   "cell_type": "markdown",
   "metadata": {},
   "source": [
    "## Device"
   ]
  },
  {
   "cell_type": "code",
   "execution_count": 3,
   "metadata": {},
   "outputs": [],
   "source": [
    "device = torch.device(\"cuda\") if torch.cuda.is_available() else torch.device(\"cpu\")"
   ]
  },
  {
   "cell_type": "markdown",
   "metadata": {},
   "source": [
    "## File Path"
   ]
  },
  {
   "cell_type": "code",
   "execution_count": 4,
   "metadata": {},
   "outputs": [],
   "source": [
    "matrix_path = \"dataset/W_228.csv\"\n",
    "data_path = \"dataset/V_228.csv\"\n",
    "save_path = \"save/model.pt\""
   ]
  },
  {
   "cell_type": "markdown",
   "metadata": {},
   "source": [
    "## Parameters"
   ]
  },
  {
   "cell_type": "code",
   "execution_count": 5,
   "metadata": {},
   "outputs": [],
   "source": [
    "day_slot = 288\n",
    "n_train, n_val, n_test = 5,1,1"
   ]
  },
  {
   "cell_type": "code",
   "execution_count": 6,
   "metadata": {},
   "outputs": [],
   "source": [
    "n_his = 12\n",
    "n_pred = 3\n",
    "n_route = 207\n",
    "Ks, Kt = 3, 3\n",
    "blocks = [[1, 32, 64],[1,32,64]]\n",
    "drop_prob = 0"
   ]
  },
  {
   "cell_type": "code",
   "execution_count": 7,
   "metadata": {},
   "outputs": [],
   "source": [
    "batch_size = 50\n",
    "epochs = 50\n",
    "lr = 1e-3"
   ]
  },
  {
   "cell_type": "code",
   "execution_count": null,
   "metadata": {},
   "outputs": [],
   "source": []
  },
  {
   "cell_type": "markdown",
   "metadata": {},
   "source": [
    "## Graph"
   ]
  },
  {
   "cell_type": "code",
   "execution_count": 8,
   "metadata": {},
   "outputs": [
    {
     "name": "stdout",
     "output_type": "stream",
     "text": [
      "(207, 207) (3, 207, 207)\n"
     ]
    }
   ],
   "source": [
    "W = load_matrix(matrix_path)\n",
    "L = scaled_laplacian(W)\n",
    "Lk = cheb_poly(L, Ks)\n",
    "print(L.shape,Lk.shape)\n",
    "Lk = torch.Tensor(Lk.astype(np.float32)).to(device)"
   ]
  },
  {
   "cell_type": "markdown",
   "metadata": {},
   "source": [
    "## Standardization"
   ]
  },
  {
   "cell_type": "code",
   "execution_count": 9,
   "metadata": {},
   "outputs": [],
   "source": [
    "train, val, test = load_data(data_path, n_train * day_slot, n_val * day_slot)\n",
    "scaler = StandardScaler()\n",
    "train = scaler.fit_transform(train)\n",
    "val = scaler.transform(val)\n",
    "test = scaler.transform(test)"
   ]
  },
  {
   "cell_type": "markdown",
   "metadata": {},
   "source": [
    "## Transform Data"
   ]
  },
  {
   "cell_type": "code",
   "execution_count": null,
   "metadata": {},
   "outputs": [],
   "source": []
  },
  {
   "cell_type": "code",
   "execution_count": 10,
   "metadata": {},
   "outputs": [],
   "source": [
    "x_train, y_train = data_transform(train, n_his, n_pred, day_slot, device)\n",
    "x_val, y_val = data_transform(val, n_his, n_pred, day_slot, device)\n",
    "x_test, y_test = data_transform(test, n_his, n_pred, day_slot, device)\n",
    "noise=0\n",
    "x_train=x_train+(noise**0.5)*torch.randn(x_train.shape)\n",
    "x_val=x_val+(noise**0.5)*torch.randn(x_val.shape)\n",
    "x_test=x_test+(noise**0.5)*torch.randn(x_test.shape)\n",
    "y_train=y_train+(noise**0.5)*torch.randn(y_train.shape)\n",
    "y_val=y_val+(noise**0.5)*torch.randn(y_val.shape)\n",
    "y_test=y_test+(noise**0.5)*torch.randn(y_test.shape)"
   ]
  },
  {
   "cell_type": "markdown",
   "metadata": {},
   "source": [
    "## DataLoader"
   ]
  },
  {
   "cell_type": "code",
   "execution_count": 11,
   "metadata": {},
   "outputs": [],
   "source": [
    "train_data = torch.utils.data.TensorDataset(x_train, y_train)\n",
    "train_iter = torch.utils.data.DataLoader(train_data, batch_size, shuffle=True)\n",
    "val_data = torch.utils.data.TensorDataset(x_val, y_val)\n",
    "val_iter = torch.utils.data.DataLoader(val_data, batch_size)\n",
    "test_data = torch.utils.data.TensorDataset(x_test, y_test)\n",
    "test_iter = torch.utils.data.DataLoader(test_data,12)"
   ]
  },
  {
   "cell_type": "markdown",
   "metadata": {},
   "source": [
    "## Loss & Model & Optimizer"
   ]
  },
  {
   "cell_type": "code",
   "execution_count": 12,
   "metadata": {},
   "outputs": [],
   "source": [
    "loss = nn.MSELoss()\n",
    "model = STGCN(Ks, Kt, blocks, n_his, n_route, Lk, drop_prob).to(device)\n",
    "optimizer = torch.optim.RMSprop(model.parameters(), lr=lr)"
   ]
  },
  {
   "cell_type": "code",
   "execution_count": null,
   "metadata": {},
   "outputs": [],
   "source": []
  },
  {
   "cell_type": "markdown",
   "metadata": {},
   "source": [
    "## LR Scheduler"
   ]
  },
  {
   "cell_type": "code",
   "execution_count": 13,
   "metadata": {},
   "outputs": [],
   "source": [
    "scheduler = torch.optim.lr_scheduler.StepLR(optimizer, step_size=5, gamma=0.7)"
   ]
  },
  {
   "cell_type": "markdown",
   "metadata": {},
   "source": [
    "## Training & Save Model"
   ]
  },
  {
   "cell_type": "code",
   "execution_count": null,
   "metadata": {
    "scrolled": true
   },
   "outputs": [
    {
     "name": "stdout",
     "output_type": "stream",
     "text": [
      "torch.Size([50, 1, 12, 207])\n",
      "torch.Size([50, 64, 8, 207])\n",
      "torch.Size([50, 64, 8, 207])\n",
      "torch.Size([50, 1, 12, 207])\n",
      "torch.Size([50, 64, 8, 207])\n",
      "torch.Size([50, 64, 8, 207])\n",
      "torch.Size([50, 1, 12, 207])\n",
      "torch.Size([50, 64, 8, 207])\n",
      "torch.Size([50, 64, 8, 207])\n",
      "torch.Size([50, 1, 12, 207])\n",
      "torch.Size([50, 64, 8, 207])\n",
      "torch.Size([50, 64, 8, 207])\n",
      "torch.Size([50, 1, 12, 207])\n",
      "torch.Size([50, 64, 8, 207])\n",
      "torch.Size([50, 64, 8, 207])\n",
      "torch.Size([50, 1, 12, 207])\n",
      "torch.Size([50, 64, 8, 207])\n",
      "torch.Size([50, 64, 8, 207])\n",
      "torch.Size([50, 1, 12, 207])\n",
      "torch.Size([50, 64, 8, 207])\n",
      "torch.Size([50, 64, 8, 207])\n",
      "torch.Size([50, 1, 12, 207])\n",
      "torch.Size([50, 64, 8, 207])\n",
      "torch.Size([50, 64, 8, 207])\n",
      "torch.Size([50, 1, 12, 207])\n",
      "torch.Size([50, 64, 8, 207])\n",
      "torch.Size([50, 64, 8, 207])\n",
      "torch.Size([50, 1, 12, 207])\n",
      "torch.Size([50, 64, 8, 207])\n",
      "torch.Size([50, 64, 8, 207])\n",
      "torch.Size([50, 1, 12, 207])\n",
      "torch.Size([50, 64, 8, 207])\n",
      "torch.Size([50, 64, 8, 207])\n",
      "torch.Size([50, 1, 12, 207])\n",
      "torch.Size([50, 64, 8, 207])\n",
      "torch.Size([50, 64, 8, 207])\n",
      "torch.Size([50, 1, 12, 207])\n",
      "torch.Size([50, 64, 8, 207])\n",
      "torch.Size([50, 64, 8, 207])\n",
      "torch.Size([50, 1, 12, 207])\n",
      "torch.Size([50, 64, 8, 207])\n",
      "torch.Size([50, 64, 8, 207])\n",
      "torch.Size([50, 1, 12, 207])\n",
      "torch.Size([50, 64, 8, 207])\n",
      "torch.Size([50, 64, 8, 207])\n",
      "torch.Size([50, 1, 12, 207])\n",
      "torch.Size([50, 64, 8, 207])\n",
      "torch.Size([50, 64, 8, 207])\n",
      "torch.Size([50, 1, 12, 207])\n",
      "torch.Size([50, 64, 8, 207])\n",
      "torch.Size([50, 64, 8, 207])\n",
      "torch.Size([50, 1, 12, 207])\n",
      "torch.Size([50, 64, 8, 207])\n",
      "torch.Size([50, 64, 8, 207])\n",
      "torch.Size([50, 1, 12, 207])\n",
      "torch.Size([50, 64, 8, 207])\n",
      "torch.Size([50, 64, 8, 207])\n",
      "torch.Size([50, 1, 12, 207])\n",
      "torch.Size([50, 64, 8, 207])\n",
      "torch.Size([50, 64, 8, 207])\n",
      "torch.Size([50, 1, 12, 207])\n",
      "torch.Size([50, 64, 8, 207])\n",
      "torch.Size([50, 64, 8, 207])\n",
      "torch.Size([50, 1, 12, 207])\n",
      "torch.Size([50, 64, 8, 207])\n",
      "torch.Size([50, 64, 8, 207])\n",
      "torch.Size([50, 1, 12, 207])\n",
      "torch.Size([50, 64, 8, 207])\n",
      "torch.Size([50, 64, 8, 207])\n",
      "torch.Size([50, 1, 12, 207])\n",
      "torch.Size([50, 64, 8, 207])\n",
      "torch.Size([50, 64, 8, 207])\n",
      "torch.Size([50, 1, 12, 207])\n",
      "torch.Size([50, 64, 8, 207])\n",
      "torch.Size([50, 64, 8, 207])\n",
      "torch.Size([50, 1, 12, 207])\n",
      "torch.Size([50, 64, 8, 207])\n",
      "torch.Size([50, 64, 8, 207])\n",
      "torch.Size([50, 1, 12, 207])\n",
      "torch.Size([50, 64, 8, 207])\n",
      "torch.Size([50, 64, 8, 207])\n",
      "torch.Size([20, 1, 12, 207])\n",
      "torch.Size([20, 64, 8, 207])\n",
      "torch.Size([20, 64, 8, 207])\n",
      "torch.Size([50, 1, 12, 207])\n",
      "torch.Size([50, 64, 8, 207])\n",
      "torch.Size([50, 64, 8, 207])\n",
      "torch.Size([50, 1, 12, 207])\n",
      "torch.Size([50, 64, 8, 207])\n",
      "torch.Size([50, 64, 8, 207])\n",
      "torch.Size([50, 1, 12, 207])\n",
      "torch.Size([50, 64, 8, 207])\n",
      "torch.Size([50, 64, 8, 207])\n",
      "torch.Size([50, 1, 12, 207])\n",
      "torch.Size([50, 64, 8, 207])\n",
      "torch.Size([50, 64, 8, 207])\n",
      "torch.Size([50, 1, 12, 207])\n",
      "torch.Size([50, 64, 8, 207])\n",
      "torch.Size([50, 64, 8, 207])\n",
      "torch.Size([24, 1, 12, 207])\n",
      "torch.Size([24, 64, 8, 207])\n",
      "torch.Size([24, 64, 8, 207])\n",
      "epoch 1 , train loss: 0.6752222395726364 , validation loss: 0.7239650764169484\n",
      "torch.Size([50, 1, 12, 207])\n",
      "torch.Size([50, 64, 8, 207])\n",
      "torch.Size([50, 64, 8, 207])\n",
      "torch.Size([50, 1, 12, 207])\n",
      "torch.Size([50, 64, 8, 207])\n",
      "torch.Size([50, 64, 8, 207])\n",
      "torch.Size([50, 1, 12, 207])\n",
      "torch.Size([50, 64, 8, 207])\n",
      "torch.Size([50, 64, 8, 207])\n",
      "torch.Size([50, 1, 12, 207])\n",
      "torch.Size([50, 64, 8, 207])\n",
      "torch.Size([50, 64, 8, 207])\n",
      "torch.Size([50, 1, 12, 207])\n",
      "torch.Size([50, 64, 8, 207])\n",
      "torch.Size([50, 64, 8, 207])\n",
      "torch.Size([50, 1, 12, 207])\n",
      "torch.Size([50, 64, 8, 207])\n",
      "torch.Size([50, 64, 8, 207])\n",
      "torch.Size([50, 1, 12, 207])\n",
      "torch.Size([50, 64, 8, 207])\n",
      "torch.Size([50, 64, 8, 207])\n",
      "torch.Size([50, 1, 12, 207])\n",
      "torch.Size([50, 64, 8, 207])\n",
      "torch.Size([50, 64, 8, 207])\n",
      "torch.Size([50, 1, 12, 207])\n",
      "torch.Size([50, 64, 8, 207])\n",
      "torch.Size([50, 64, 8, 207])\n",
      "torch.Size([50, 1, 12, 207])\n",
      "torch.Size([50, 64, 8, 207])\n",
      "torch.Size([50, 64, 8, 207])\n",
      "torch.Size([50, 1, 12, 207])\n",
      "torch.Size([50, 64, 8, 207])\n",
      "torch.Size([50, 64, 8, 207])\n",
      "torch.Size([50, 1, 12, 207])\n",
      "torch.Size([50, 64, 8, 207])\n",
      "torch.Size([50, 64, 8, 207])\n",
      "torch.Size([50, 1, 12, 207])\n",
      "torch.Size([50, 64, 8, 207])\n",
      "torch.Size([50, 64, 8, 207])\n",
      "torch.Size([50, 1, 12, 207])\n",
      "torch.Size([50, 64, 8, 207])\n",
      "torch.Size([50, 64, 8, 207])\n",
      "torch.Size([50, 1, 12, 207])\n",
      "torch.Size([50, 64, 8, 207])\n",
      "torch.Size([50, 64, 8, 207])\n",
      "torch.Size([50, 1, 12, 207])\n",
      "torch.Size([50, 64, 8, 207])\n",
      "torch.Size([50, 64, 8, 207])\n",
      "torch.Size([50, 1, 12, 207])\n",
      "torch.Size([50, 64, 8, 207])\n",
      "torch.Size([50, 64, 8, 207])\n",
      "torch.Size([50, 1, 12, 207])\n",
      "torch.Size([50, 64, 8, 207])\n",
      "torch.Size([50, 64, 8, 207])\n",
      "torch.Size([50, 1, 12, 207])\n",
      "torch.Size([50, 64, 8, 207])\n",
      "torch.Size([50, 64, 8, 207])\n",
      "torch.Size([50, 1, 12, 207])\n",
      "torch.Size([50, 64, 8, 207])\n",
      "torch.Size([50, 64, 8, 207])\n"
     ]
    }
   ],
   "source": [
    "train_l=[]\n",
    "val_l=[]\n",
    "min_val_loss = np.inf\n",
    "for epoch in range(1, epochs + 1):\n",
    "    l_sum, n = 0.0, 0\n",
    "    model.train()\n",
    "    for x, y in train_iter:\n",
    "        m = model(x)\n",
    "#         print(m.shape)\n",
    "        y_pred = m.view(len(x), -1)\n",
    "#         print(y_pred.shape)\n",
    "#         print(y.shape)\n",
    "        l = loss(y_pred, y)\n",
    "        optimizer.zero_grad()\n",
    "        l.backward()\n",
    "        optimizer.step()\n",
    "        l_sum += l.item() * y.shape[0]\n",
    "        n += y.shape[0]\n",
    "    scheduler.step()\n",
    "    val_loss = evaluate_model(model, loss, val_iter)\n",
    "    if val_loss < min_val_loss:\n",
    "        min_val_loss = val_loss\n",
    "        torch.save(model.state_dict(), save_path)\n",
    "    print(\"epoch\", epoch, \", train loss:\", l_sum / n, \", validation loss:\", val_loss)\n",
    "    train_l.append(l_sum/n)\n",
    "    val_l.append(val_loss)"
   ]
  },
  {
   "cell_type": "markdown",
   "metadata": {},
   "source": [
    "## Load Best Model"
   ]
  },
  {
   "cell_type": "code",
   "execution_count": null,
   "metadata": {},
   "outputs": [],
   "source": [
    "best_model = STGCN(Ks, Kt, blocks, n_his, n_route, Lk, drop_prob).to(device)\n",
    "best_model.load_state_dict(torch.load(save_path))"
   ]
  },
  {
   "cell_type": "markdown",
   "metadata": {},
   "source": [
    "## Evaluation"
   ]
  },
  {
   "cell_type": "code",
   "execution_count": null,
   "metadata": {},
   "outputs": [],
   "source": [
    "l = evaluate_model(best_model, loss, test_iter)\n",
    "MAE, MAPE, RMSE,MAE_C, MAPE_C, RMSE_C,y_list,y_list_pred = evaluate_metric(best_model, test_iter, scaler)\n",
    "print(\"test loss:\", l, \"\\nMAE:\", MAE, \", MAPE:\", MAPE, \", RMSE:\", RMSE, \"\\nMAE_C:\", MAE_C, \", MAPE_C:\", MAPE_C, \", RMSE_C:\", RMSE_C)"
   ]
  },
  {
   "cell_type": "code",
   "execution_count": null,
   "metadata": {},
   "outputs": [],
   "source": [
    "len(y_list_pred)\n",
    "len(y_list_pred[-1])\n"
   ]
  },
  {
   "cell_type": "code",
   "execution_count": null,
   "metadata": {},
   "outputs": [],
   "source": [
    "y=[]\n",
    "s=40\n",
    "for i in y_list:\n",
    "    y.extend(i)\n",
    "y=torch.tensor(y)\n",
    "\n",
    "y=y.T\n",
    "sensor_y=y[s]\n",
    "\n",
    "y_pred=[]\n",
    "for i in y_list_pred:\n",
    "    y_pred.extend(i)\n",
    "y_pred=torch.tensor(y_pred)\n",
    "y_pred=y_pred.T\n",
    "sensor_y_pred=y_pred[s]\n"
   ]
  },
  {
   "cell_type": "code",
   "execution_count": null,
   "metadata": {},
   "outputs": [],
   "source": [
    "from matplotlib import pyplot as plt\n",
    "plt.plot(len(sensor_y),sensor_y)\n",
    "plt.plot(len(sensor_y_pred),sensor_y_pred,color='r')\n",
    "plt.show()"
   ]
  },
  {
   "cell_type": "code",
   "execution_count": null,
   "metadata": {},
   "outputs": [],
   "source": [
    "n = torch.stack([sensor_y,sensor_y_pred],dim=1)\n",
    "n=n.numpy()\n",
    "np.savetxt( \"a.csv\", n, delimiter=\",\" )"
   ]
  },
  {
   "cell_type": "code",
   "execution_count": null,
   "metadata": {},
   "outputs": [],
   "source": [
    "plt.plot(range(len(train_l)),train_l)\n",
    "plt.plot(range(len(val_l)),val_l,color='r')\n",
    "plt.show"
   ]
  },
  {
   "cell_type": "code",
   "execution_count": null,
   "metadata": {},
   "outputs": [],
   "source": []
  }
 ],
 "metadata": {
  "kernelspec": {
   "display_name": "pytorch",
   "language": "python",
   "name": "pytorch"
  },
  "language_info": {
   "codemirror_mode": {
    "name": "ipython",
    "version": 3
   },
   "file_extension": ".py",
   "mimetype": "text/x-python",
   "name": "python",
   "nbconvert_exporter": "python",
   "pygments_lexer": "ipython3",
   "version": "3.6.13"
  }
 },
 "nbformat": 4,
 "nbformat_minor": 4
}
